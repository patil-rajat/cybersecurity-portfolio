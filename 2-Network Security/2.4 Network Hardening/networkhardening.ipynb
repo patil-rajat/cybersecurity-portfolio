{
 "cells": [
  {
   "cell_type": "markdown",
   "metadata": {},
   "source": [
    "# Analysis of Network Hardening\n",
    "\n",
    "## Scenario\n",
    "Review the following scenario. Then complete the step-by-step instructions.\n",
    "\n",
    "You are a security analyst working for a social media organization. The organization recently experienced a major data breach, which compromised the safety of their customers’ personal information, such as names and addresses. Your organization wants to implement strong network hardening practices that can be performed consistently to prevent attacks and breaches in the future. \n",
    "\n",
    "After inspecting the organization’s network, you discover four major vulnerabilities. The four vulnerabilities are as follows:\n",
    "1. The organization’s employees' share passwords.\n",
    "2. The admin password for the database is set to the default.\n",
    "3. The firewalls do not have rules in place to filter traffic coming in and out of the network.\n",
    "4. Multifactor authentication (MFA) is not used. \n",
    "\n",
    "If no action is taken to address these vulnerabilities, the organization is at risk of experiencing another data breach or other attacks in the future. \n",
    "\n",
    "In this activity, you will write a security risk assessment to analyze the incident and explain what methods can be used to further secure the network.\n",
    "\n",
    "> Link to 'Security Risk Assessment Report' template is [here](https://docs.google.com/document/d/1X-vXSpw50fayEag0ej526Mt4lkwcfKJ4JbtJyXPvvn4/template/preview?resourcekey=0-oajIyd93Jwql2MAckWYLUg).\n",
    "\n",
    "## Report: Security Risk Assessment Report\n",
    "\n",
    "### PART-1: Select some hardening tools and methods to implement\n",
    "* Network Access Privileges: Network access privileges involves permitting, limiting, and/or blocking access privileges to network assets for people, roles, groups, IP addresses, MAC addresses, etc. This reduces the risk of unauthorized users and outside traffic from accessing the internal network. This can be implemented once, or revisited depending on the likelihood of social engineering or brute force attacks.<br>\n",
    "* Multi-Factor Authentication (MFA): MFA requires users to use more ways to identify and verify their credentials before the system grants them access. Some may include fingerprint, facial recognition (Something you are), ID cards and phone numbers or devices (Something you have/possess), PINs and passkeys (Something you know). This can help protect against brute force attacks and similar security events. MFA can be implemented at any time, and is mostly a technique that is set up once then maintained.  <br>\n",
    "* Firewall / Port Filtering: Firewall maintenance checks and updates security configurations to detect threats. A firewall is able tp block certain port numbers to limit unwanted communication. Port filtering is used to control network traffic and can prevent potential attackers from entering a private network. <br>\n",
    "* Password policies: Password policies can be refined to include rules regarding password length, list of acceptable characters, and a disclaimer to discourage password sharing. They can also include rules surrounding unsuccessful login attempts, such as the user losing access to the network after five unsuccessful attempts.\n",
    "\n",
    "### PART-3: Explain your recommendations\n",
    "* By implementing Network Access Privilege, the risk of unauthorized users and outside traffic from accessing the internal network, is reduced. This can be implemented once, or revisited depending on the likelihood of social engineering or brute force attacks. <br>\n",
    "* Strong password and authentication policies will make the company powerful against hackers trying to hack the network. <br>\n",
    "* By implementing firewall, the administrator can have a watch over connections. This measure is to protect against various DoS and DDoS attacks. Also, port filtering can control the network traffic and prevent attackers from entering a private network.\n",
    "* Creating and enforcing a password policy within the company will make it increasingly challenging for malicious actors to access the network. Policies such as suspending the account after a certain number of logins can prevent successful brute force attacks. Increasing password complexity, requiring more frequent password updates, and not allowing passwords to be reused also help stall malicious actors from infiltrating the network. <br>"
   ]
  },
  {
   "cell_type": "markdown",
   "metadata": {},
   "source": []
  }
 ],
 "metadata": {
  "language_info": {
   "name": "python"
  }
 },
 "nbformat": 4,
 "nbformat_minor": 2
}
