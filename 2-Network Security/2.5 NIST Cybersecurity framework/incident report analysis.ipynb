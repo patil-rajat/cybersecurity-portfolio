{
 "cells": [
  {
   "cell_type": "markdown",
   "metadata": {},
   "source": [
    "# Incident Report Analysis\n",
    "\n",
    "## Scenario\n",
    "You are a cybersecurity analyst working for a multimedia company that offers web design services, graphic design, and social media marketing solutions to small businesses. Your organization recently experienced a DDoS attack, which compromised the internal network for two hours until it was resolved.\n",
    "\n",
    "During the attack, your organization’s network services suddenly stopped responding due to an incoming flood of ICMP packets. Normal internal network traffic could not access any network resources. The incident management team responded by blocking incoming ICMP packets, stopping all non-critical network services offline, and restoring critical network services. \n",
    "\n",
    "The company’s cybersecurity team then investigated the security event. They found that a malicious actor had sent a flood of ICMP pings into the company’s network through an unconfigured firewall. This vulnerability allowed the malicious attacker to overwhelm the company’s network through a distributed denial of service (DDoS) attack. \n",
    "\n",
    "To address this security event, the network security team implemented: \n",
    "1. A new firewall rule to limit the rate of incoming ICMP packets\n",
    "2.  Source IP address verification on the firewall to check for spoofed IP addresses on incoming ICMP packets\n",
    "3. Network monitoring software to detect abnormal traffic patterns\n",
    "4. An IDS/IPS system to filter out some ICMP traffic based on suspicious characteristics\n",
    "\n",
    "As a cybersecurity analyst, you are tasked with using this security event to create a plan to improve your company’s network security, following the National Institute of Standards and Technology (NIST) Cybersecurity Framework (CSF). You will use the CSF to help you navigate through the different steps of analyzing this cybersecurity event and integrate your analysis into a general security strategy. We have broken the analysis into different parts in the template below. You can explore them here: <br>\n",
    "* Identify security risks through regular audits of internal networks, systems, devices, and access privileges to identify potential gaps in security. <br>\n",
    "* Protect internal assets through the implementation of policies, procedures, training and tools that help mitigate cybersecurity threats. <br>\n",
    "* Detect potential security incidents and improve monitoring capabilities to increase the speed and efficiency of detections. <br>\n",
    "* Respond to contain, neutralize, and analyze security incidents; implement improvements to the security process. <br>\n",
    "\n",
    "Recover affected systems to normal operation and restore systems data and/or assets that have been affected by an incident. \n",
    "\n",
    "## Response\n",
    "\n",
    "Applying NIST CSF framework to the given scenario.\n",
    "\n",
    "| Summary | The company experienced a security event where its network services got disrupted by a DDoS (Distributed Denial of Services) attack. The DDoS attack was caused by flooding of ICMP packets. The team responded to the event by blocking the attack and stopping all unecessary services so that the ciritical services can be restored effectively. |\n",
    "|---|---|\n",
    "| Identify | A malicious actor targetted the company with an ICMP flood attack. This resulted in internal networks being unavailable for 2 hours. All critical systems were needed to be restored and secured. |\n",
    "| Protect | The security team configured the firewalls to limit the rate of incoming ICMP packets and IDS(Intrusion Detection System)/IPS (Intrusion Prevention System) to filter out suspicious, abnormal traffic.|\n",
    "| Detect | The security team checked for spoofed IP addresses on incoming ICMP packets and further implemented networking monitoring software to detect abnormal traffic patterns. |\n",
    "| Respond | The security team responded by isolating the affected network systems to prevent further dusruptions to the network. They attempted to restore critical systems and services that were disrupted by the event. The team then analysed the network logs for checking suspicious activity. This incident will be conveyed to upper management and appropriate legal actions will be taken.  |\n",
    "| Recover | To fully recover from a DDoS attack, the network systems needs to be restored to its full functioning state. In the future, these malicious ICMP packets can be blocked at the firewall. All non-critical services needs to be stopped in order to reduce the traffic on internal network. Critical services should be given priority for resuming the services. Once the ICMP packets get timed-out, all network systems can be brought back into service. |\n",
    "\n",
    "<br>\n",
    "\n",
    "> Information regarding the NIST CSF can be found in the pdf."
   ]
  },
  {
   "cell_type": "markdown",
   "metadata": {},
   "source": []
  }
 ],
 "metadata": {
  "language_info": {
   "name": "python"
  }
 },
 "nbformat": 4,
 "nbformat_minor": 2
}
